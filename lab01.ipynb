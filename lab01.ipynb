{
 "cells": [
  {
   "cell_type": "markdown",
   "metadata": {},
   "source": [
    "## Lab 01"
   ]
  },
  {
   "cell_type": "markdown",
   "metadata": {},
   "source": [
    "### Rozgrzewka (zalecana dla początkujących)"
   ]
  },
  {
   "cell_type": "markdown",
   "metadata": {},
   "source": [
    "a) Korzystając z ```virtualenv``` przygotuj wirtualne środowisko uruchomieniowe ([Wirtualne środowisko uruchomieniowe Pythona](http://blog.fizyk.net.pl/pl/blog/wirtualne-srodowisko-uruchomieniowe-pythona.html))."
   ]
  },
  {
   "cell_type": "markdown",
   "metadata": {},
   "source": [
    "b) Korzystając z ```pip``` zainstaluj pakiet ```roman``` i przetestuj go."
   ]
  },
  {
   "cell_type": "markdown",
   "metadata": {},
   "source": [
    "Jeśli są z tym problemy wykorzystaj [tooooo](https://www.google.pl/search?q=python+online+interpreter&oq=python+online+&aqs=chrome.2.69i57j0l5.4406j0j7&sourceid=chrome&ie=UTF-80)"
   ]
  },
  {
   "cell_type": "markdown",
   "metadata": {
    "collapsed": true
   },
   "source": [
    "### Zadanie 1"
   ]
  },
  {
   "cell_type": "markdown",
   "metadata": {},
   "source": [
    "Zaimplementuj poniższe funkcje, tak żeby dołączone testy przechodziły. Polecenia znajdują się w docstringach pod deklaracją funkcji."
   ]
  },
  {
   "cell_type": "code",
   "execution_count": 1,
   "metadata": {},
   "outputs": [
    {
     "name": "stdout",
     "output_type": "stream",
     "text": [
      "True\n",
      "True\n",
      "True\n"
     ]
    }
   ],
   "source": [
    "def avg(input):\n",
    "    return sum(input)/len(input)\n",
    "    \"\"\"Funkcja powinna zwrócić średnią arytmetyczną elementów na liście 'input'\"\"\"\n",
    "    pass\n",
    "\n",
    "print(avg([2,2,2,2,2,2]) - 2 < 0.0000001)\n",
    "print(avg([4, 6, 55, 18, 17, 12]) - 18.666666666666668 < 0.0000001)\n",
    "print(avg([86, 89, 24, 45, 62, 17, 61, 63, 30, 13]) - 49 < 0.0000001)"
   ]
  },
  {
   "cell_type": "code",
   "execution_count": 2,
   "metadata": {},
   "outputs": [
    {
     "name": "stdout",
     "output_type": "stream",
     "text": [
      "True\n",
      "True\n",
      "True\n",
      "True\n"
     ]
    }
   ],
   "source": [
    "def even_list(n):\n",
    "    return [x for x in range(2, n+1, 2)]\n",
    "    \"\"\"Funkcja powinna zwrocic liste liczb parzystych <= n\"\"\"\n",
    "    pass\n",
    "\n",
    "print(even_list(1) == [])\n",
    "print(even_list(2) == [2])\n",
    "print(even_list(-5) == [])\n",
    "print(even_list(7) == [2,4,6])"
   ]
  },
  {
   "cell_type": "code",
   "execution_count": 3,
   "metadata": {
    "collapsed": true
   },
   "outputs": [
    {
     "name": "stdout",
     "output_type": "stream",
     "text": [
      "True\n",
      "True\n",
      "True\n"
     ]
    }
   ],
   "source": [
    "def sum_of_squares(n): \n",
    "    return sum([i**2 for i in range(1, n + 1)])\n",
    "    \"\"\" Funkcja powinna zwrócić sumę kwadratów liczb od 1 do n włącznie \"\"\"\n",
    "    pass\n",
    "\n",
    "print(sum_of_squares(1) == 1)\n",
    "print(sum_of_squares(3) == 14)\n",
    "print(sum_of_squares(10) == 385)"
   ]
  },
  {
   "cell_type": "code",
   "execution_count": 4,
   "metadata": {
    "collapsed": true
   },
   "outputs": [
    {
     "name": "stdout",
     "output_type": "stream",
     "text": [
      "True\n",
      "True\n",
      "True\n"
     ]
    }
   ],
   "source": [
    "def sum_of_multiples(k, n=101):\n",
    "    return sum([i for i in range(k, n, k)])\n",
    "    \"\"\" Funckja powinna zwrócić sume wszystkich dodatnich wieloktrotności parametru k mniejszych niż n \"\"\"\n",
    "    pass\n",
    "\n",
    "print(sum_of_multiples(5) == 1050)\n",
    "print(sum_of_multiples(17) == 255)\n",
    "print(sum_of_multiples(69) == 69)"
   ]
  },
  {
   "cell_type": "code",
   "execution_count": 2,
   "metadata": {
    "collapsed": true
   },
   "outputs": [
    {
     "name": "stdout",
     "output_type": "stream",
     "text": [
      "True\n",
      "True\n",
      "True\n"
     ]
    }
   ],
   "source": [
    "def primes_less_than(n):\n",
    "    return [i for i in range(2, n) if all(i % j != 0 for j in range(2, i))]\n",
    "    \"\"\" Funkcja powinna zwrócić liste liczb pierwszych mniejszych od n \"\"\"\n",
    "    pass\n",
    "            \n",
    "print(primes_less_than(5) == [2,3])\n",
    "print(primes_less_than(10) == [2,3,5,7])\n",
    "print(primes_less_than(20) == [2, 3, 5, 7, 11, 13, 17, 19])"
   ]
  },
  {
   "cell_type": "code",
   "execution_count": 1,
   "metadata": {
    "collapsed": true
   },
   "outputs": [
    {
     "name": "stdout",
     "output_type": "stream",
     "text": [
      "True\n",
      "True\n",
      "True\n",
      "True\n"
     ]
    }
   ],
   "source": [
    "def is_palindrome(word):\n",
    "\n",
    "    return word == word[::-1]\n",
    "    \"\"\" Funkcja sprawdza czy *word* jest palindromem \"\"\"\n",
    "    pass\n",
    "\n",
    "print(is_palindrome('ala') == True)\n",
    "print(is_palindrome('ananas') == False)\n",
    "print(is_palindrome('ananasa') == False)\n",
    "print(is_palindrome('tomek') == False)"
   ]
  },
  {
   "cell_type": "code",
   "execution_count": 11,
   "metadata": {
    "collapsed": true
   },
   "outputs": [
    {
     "name": "stdout",
     "output_type": "stream",
     "text": [
      "True\n",
      "True\n",
      "True\n",
      "True\n"
     ]
    }
   ],
   "source": [
    "def how_many_different_letters(word):\n",
    "    my_set = set()\n",
    "    for i in word:\n",
    "        my_set.add(i)\n",
    "\n",
    "    return len(my_set)\n",
    "    \"\"\" Zwraca liczbę unikalnych znaków w słowie. Możemy założyć, że słowo składa się z małych liter alfabetu angielskiego \"\"\"\n",
    "    pass\n",
    "\n",
    "print(how_many_different_letters('tomek') == 5)\n",
    "print(how_many_different_letters('ala') == 2)\n",
    "print(how_many_different_letters('ananas') == 3)\n",
    "print(how_many_different_letters('jola') == 4)"
   ]
  },
  {
   "cell_type": "code",
   "execution_count": 3,
   "metadata": {
    "collapsed": true
   },
   "outputs": [
    {
     "name": "stdout",
     "output_type": "stream",
     "text": [
      "<table style=\"table-layout: fixed; height: 90px; width: 90px;\">\n",
      "<tr>\n",
      "<td>X</td>\n",
      "<td></td>\n",
      "<td>O</td>\n",
      "</tr>\n",
      "<tr>\n",
      "<td></td>\n",
      "<td>X</td>\n",
      "<td></td>\n",
      "</tr>\n",
      "<tr>\n",
      "<td>O</td>\n",
      "<td></td>\n",
      "<td>O</td>\n",
      "</tr>\n",
      "</table>\n"
     ]
    }
   ],
   "source": [
    "def list_to_table(word):\n",
    "    \"\"\" Funkcja przyjmuje 9-elementową liste i na jej podstawie tworzy stringa z HTMLową tabelą orzmiaru 3x3 \n",
    "    reprezentującą plansze do gry w kółko i krzyżyk\"\"\"\n",
    "    board = '<table style=\"table-layout: fixed; height: 90px; width: 90px;\">'\n",
    "    \n",
    "\n",
    "    for i in range(0, 9, 3):\n",
    "        board += f\"\\n<tr>\\n<td>{word[i]}</td>\\n<td>{word[i+1]}</td>\\n<td>{word[i+2]}</td>\\n</tr>\"\n",
    "    \n",
    "    board += \"\\n</table>\"\n",
    "    return board\n",
    "\n",
    "print(list_to_table(['X', '', 'O', '', 'X', '', 'O', '', 'O']))"
   ]
  },
  {
   "cell_type": "markdown",
   "metadata": {},
   "source": [
    "<table style=\"table-layout: fixed; height: 90px; width: 90px;\">\n",
    "  <tr>\n",
    "    <td>X</td>\n",
    "    <td> </td> \n",
    "    <td>O</td>\n",
    "  </tr>\n",
    "  <tr>\n",
    "    <td></td>\n",
    "    <td>X</td> \n",
    "    <td></td>\n",
    "  </tr>\n",
    "  <tr>\n",
    "    <td>O</td>\n",
    "    <td></td> \n",
    "    <td>O</td>\n",
    "  </tr>\n",
    "</table>"
   ]
  },
  {
   "cell_type": "code",
   "execution_count": 10,
   "metadata": {
    "collapsed": true
   },
   "outputs": [
    {
     "name": "stdout",
     "output_type": "stream",
     "text": [
      "True\n",
      "True\n",
      "True\n",
      "True\n"
     ]
    }
   ],
   "source": [
    "# Funkcję zwraca listę par liczb zaprzyjaźnionych nie większych niż n\n",
    "# (zobacz: https://pl.wikipedia.org/wiki/Liczby_zaprzyja%C5%BAnione) \n",
    "def zaprzyjaznione(n):\n",
    "\n",
    "    def sum_divisors(n):\n",
    "        return sum([i for i in range(1, n // 2 + 1) if n % i == 0])\n",
    "    \n",
    "    divisors_sums = {}\n",
    "    \n",
    "    amicable_pairs = []\n",
    "    for i in range(1, n):\n",
    "        if i not in divisors_sums:\n",
    "            divisors_sums[i] = sum_divisors(i)\n",
    "        \n",
    "        j = divisors_sums[i]\n",
    "        if j not in divisors_sums:\n",
    "            divisors_sums[j] = sum_divisors(j)\n",
    "            \n",
    "        if i < j and divisors_sums[j] == i:\n",
    "            amicable_pairs.append((i, j))\n",
    "    return amicable_pairs\n",
    "\n",
    "print(zaprzyjaznione(1) == [])\n",
    "print(zaprzyjaznione(300) == [(220, 284)])\n",
    "print(zaprzyjaznione(2000) == [(220, 284), (1184, 1210)])\n",
    "print(zaprzyjaznione(13000) == [(220, 284), (1184, 1210),(2620, 2924), (5020, 5564), (6232, 6368), (10744, 10856), (12285, 14595)])"
   ]
  },
  {
   "cell_type": "code",
   "execution_count": 12,
   "metadata": {},
   "outputs": [
    {
     "name": "stdout",
     "output_type": "stream",
     "text": [
      "True\n",
      "True\n",
      "True\n"
     ]
    }
   ],
   "source": [
    "\n",
    "def phi_euler(n):\n",
    "    result = n\n",
    "    for p in range(2, int(n ** 0.5) + 1):\n",
    "        if n % p == 0:\n",
    "            while n % p == 0:\n",
    "                n //= p\n",
    "            result -= result // p\n",
    "    \n",
    "    if n > 1:\n",
    "        result -= result // n\n",
    "    return result\n",
    "    \"\"\"Funkcja powinna zwrócić wartość funkcji phi Eulera\"\"\"\n",
    "\n",
    "\n",
    "print(phi_euler(6) == 2)\n",
    "print(phi_euler(64) == 32)\n",
    "print(phi_euler(97) == 96)"
   ]
  },
  {
   "cell_type": "markdown",
   "metadata": {},
   "source": [
    "### Zadanie 2"
   ]
  },
  {
   "cell_type": "markdown",
   "metadata": {},
   "source": [
    "Uzupełnij poniższe impementacje tak aby osiągnąć zbliczone czasy wykonania\n",
    "- `is_perfect`: 76.5 ms ± 5.79 ms per loop (mean ± std. dev. of 7 runs, 40 loops each)\n",
    "- `is_perfect2`: 73 ms ± 4 ms per loop (mean ± std. dev. of 7 runs, 40 loops each)"
   ]
  },
  {
   "cell_type": "code",
   "execution_count": 13,
   "metadata": {},
   "outputs": [],
   "source": [
    "def is_perfect(n):\n",
    "    \"\"\"\n",
    "    Funkcja powinna sprawdzać, czy dana liczba n jest doskonała\n",
    "    https://pl.wikipedia.org/wiki/Liczba_doskona%C5%82a\n",
    "    \"\"\"\n",
    "\n",
    "    if n < 2:\n",
    "        return False\n",
    "    \n",
    "    sum_divisors = sum(i for i in range(1,n) if n % i == 0)\n",
    "\n",
    "\n",
    "    return sum_divisors == n\n",
    "    pass"
   ]
  },
  {
   "cell_type": "code",
   "execution_count": 14,
   "metadata": {},
   "outputs": [
    {
     "name": "stdout",
     "output_type": "stream",
     "text": [
      "True\n",
      "True\n",
      "True\n"
     ]
    }
   ],
   "source": [
    "print(is_perfect(6) is True)\n",
    "print(is_perfect(28) is True)\n",
    "print(is_perfect(7) is False)"
   ]
  },
  {
   "cell_type": "code",
   "execution_count": 15,
   "metadata": {},
   "outputs": [],
   "source": [
    "def is_perfect2(n):\n",
    "    \"\"\"\n",
    "    Funkcja powinna sprawdzać, czy dana liczba n jest doskonała\n",
    "    https://pl.wikipedia.org/wiki/Liczba_doskona%C5%82a\n",
    "    \"\"\"\n",
    "\n",
    "    return is_perfect(n)\n",
    "    pass"
   ]
  },
  {
   "cell_type": "code",
   "execution_count": 16,
   "metadata": {},
   "outputs": [
    {
     "name": "stdout",
     "output_type": "stream",
     "text": [
      "True\n",
      "True\n",
      "True\n"
     ]
    }
   ],
   "source": [
    "print(is_perfect2(6) is True)\n",
    "print(is_perfect2(28) is True)\n",
    "print(is_perfect2(7) is False)"
   ]
  },
  {
   "cell_type": "markdown",
   "metadata": {},
   "source": [
    "## Zadanie dodatkowe\n",
    "Można za nie zdobyć punkty z aktywności, równiez oddając je za tydzień.\n",
    "\n",
    "Dla zadanej tablicy o długości $n$ zawierającej liczby całkowite większe od zera. \n",
    "Chcemy znaleźć podtablice, że $m$ kolejnych elementów sumuje się do $d$.\n",
    "\n",
    "Napisz funkcję która dla danych $m$, $d$ i sekwencję liczb całkowitych większych od zera $tab$, wypisze na ile sposobów można stworzyć taką podtablice?\n",
    "\n",
    "Przykładowo, niech $m=2$, $d=3$, a czekolada składa się z $tab = [1,2,1,3,2]$. Chcemy znaleźć takie dwa (bo m=2) elementy pod rząd, których suma da nam $d=3$. Jest to pierwszy i drugi element lub drugi i trzeci.\n",
    "\n",
    "\n",
    "**Napisz program, który działa w czasie liniowym.**"
   ]
  },
  {
   "cell_type": "code",
   "execution_count": 17,
   "metadata": {
    "collapsed": true
   },
   "outputs": [],
   "source": [
    "def solve(d, m, tab):\n",
    "    count = 0\n",
    "    current_sum = sum(tab[:m])\n",
    "    \n",
    "    if current_sum == d:\n",
    "        count += 1\n",
    "\n",
    "    for i in range(len(tab) - m):\n",
    "        current_sum = current_sum - tab[i] + tab[i + m]\n",
    "        if current_sum == d:\n",
    "            count += 1\n",
    "            \n",
    "    return count\n",
    "    pass  "
   ]
  },
  {
   "cell_type": "code",
   "execution_count": 18,
   "metadata": {
    "collapsed": true
   },
   "outputs": [],
   "source": [
    "tab=[1, 2, 1, 3, 2]\n",
    "d=3 \n",
    "m=2\n",
    "tab1=[1, 1, 1, 1, 1, 1]\n",
    "d1=3 \n",
    "m1=2\n",
    "tab2=[4,1,3,4,1,1,1,1,1,1,1]\n",
    "d2=4 \n",
    "m2=4"
   ]
  },
  {
   "cell_type": "code",
   "execution_count": 19,
   "metadata": {
    "collapsed": true
   },
   "outputs": [
    {
     "name": "stdout",
     "output_type": "stream",
     "text": [
      "True\n",
      "True\n",
      "True\n"
     ]
    }
   ],
   "source": [
    "print(solve(d, m, tab)==2)\n",
    "print(solve(d1, m1, tab1)==0)\n",
    "print(solve(d2, m2, tab2)==4)"
   ]
  },
  {
   "cell_type": "markdown",
   "metadata": {},
   "source": []
  },
  {
   "cell_type": "markdown",
   "metadata": {},
   "source": [
    "## Zadanie dodatkowe 2\n",
    "Można za nie zdobyć punkty z aktywności, również oddając je za tydzień.\n",
    "\n",
    "Napisz definicję funkcji HowManyIntegers(N), która zwróci jak wiele liczb z zakresu [1,N) składa się wyłącznie z cyfr {0,2,7,9}. <br><br>\n",
    "Czyli np. <br>\n",
    "HowManyIntegers(1) = 0 <br>\n",
    "HowManyIntegers(10) = 3 # 2,7,9 <br>\n",
    "HowManyIntegers(28) = 6 # 2,7,9,20,22,27 <br>\n",
    "\n",
    "Twoje rozwiązanie powinno mieć jak najmniej niebiałych znaków. Czy uda się w 69? A może da się jeszcze mniej?"
   ]
  },
  {
   "cell_type": "code",
   "execution_count": 20,
   "metadata": {},
   "outputs": [
    {
     "name": "stdout",
     "output_type": "stream",
     "text": [
      "True\n",
      "True\n",
      "True\n"
     ]
    }
   ],
   "source": [
    "import re\n",
    "def HowManyIntegers(n):\n",
    "    return sum(1 for x in range(n) if re.match('^[0279]+$',str(x)))-1\n",
    "\n",
    "\n",
    "print(HowManyIntegers(1) == 0) \n",
    "print(HowManyIntegers(10) == 3) # 2,7,9 \n",
    "print(HowManyIntegers(28) == 6) # 2,7,9,20,22,27"
   ]
  },
  {
   "cell_type": "markdown",
   "metadata": {},
   "source": [
    "## Bonusy\n",
    "\n",
    "\"Dodatkowe\" pakiety Pythona"
   ]
  },
  {
   "cell_type": "code",
   "execution_count": null,
   "metadata": {
    "collapsed": true
   },
   "outputs": [],
   "source": [
    "# flying\n",
    "import antigravity"
   ]
  },
  {
   "cell_type": "code",
   "execution_count": null,
   "metadata": {
    "collapsed": true
   },
   "outputs": [],
   "source": [
    "# PEP20\n",
    "import this"
   ]
  },
  {
   "cell_type": "code",
   "execution_count": null,
   "metadata": {
    "collapsed": true
   },
   "outputs": [],
   "source": [
    "# A poem\n",
    "love = this\n",
    "\n",
    "this is love, love is not True or False, love is love"
   ]
  },
  {
   "cell_type": "code",
   "execution_count": null,
   "metadata": {
    "collapsed": true
   },
   "outputs": [],
   "source": [
    "# Nie lubię wcięć, chce używać nawiasów {} do bloków kodu\n",
    "from __future__ import braces"
   ]
  }
 ],
 "metadata": {
  "kernelspec": {
   "display_name": "Python 3 (ipykernel)",
   "language": "python",
   "name": "python3"
  },
  "language_info": {
   "codemirror_mode": {
    "name": "ipython",
    "version": 3
   },
   "file_extension": ".py",
   "mimetype": "text/x-python",
   "name": "python",
   "nbconvert_exporter": "python",
   "pygments_lexer": "ipython3",
   "version": "3.10.0"
  }
 },
 "nbformat": 4,
 "nbformat_minor": 2
}
