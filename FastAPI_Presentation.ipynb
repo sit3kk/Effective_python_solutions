{
 "cells": [
  {
   "cell_type": "markdown",
   "id": "8e254ef4",
   "metadata": {},
   "source": [
    "<img src=\"images/image1.png\" width=\"500\"/>\n",
    "\n",
    "\n"
   ]
  },
  {
   "cell_type": "markdown",
   "id": "fa8a1747",
   "metadata": {},
   "source": [
    "## Agenda\n",
    "1. Co to jest FastAPI?\n",
    "2. Główne cechy\n",
    "3. Porównanie z innymi frameworkami\n",
    "4. Podstawy budowy API\n",
    "5. Demonstracja prostego API\n",
    "6. Zaawansowane funkcje\n",
    "7. Podsumowanie i zasoby"
   ]
  },
  {
   "cell_type": "markdown",
   "id": "fc75ae1e",
   "metadata": {},
   "source": [
    "## **Co to jest FastAPI?**\n",
    "\n",
    "FastAPI to nowoczesny, wydajny framework webowy do budowania API z użyciem Pythona 3.6+ bazujący na standardowym typowaniu Pythona. Został stworzony przez Sebastiána Ramíreza i pierwszy raz opublikowany w grudniu 2018 roku.\n",
    "\n",
    "<img src=\"images/image2.png\" width=\"500\"/>\n",
    "\n",
    "\n",
    "\n",
    "\n",
    "\n",
    "\n"
   ]
  },
  {
   "cell_type": "markdown",
   "id": "d64166c6",
   "metadata": {},
   "source": [
    "## **Historia FastAPI**\n",
    "\n",
    "### Początki\n",
    "- Twórca FastAPI przez wiele lat tworzył API dla skomplikowanych systemów (takich jak uczenie maszynowe, systemy rozproszone, prace asynchroniczne, bazy danych NoSQL).\n",
    "- W tym czasie przetestował i używał wielu istniejących narzędzi i frameworków, czerpiąc z nich inspirację.\n",
    "\n",
    "### Inspiracja i Projektowanie\n",
    "- FastAPI powstało jako kombinacja najlepszych rozwiązań z poprzednich narzędzi, z wykorzystaniem nowych funkcji Pythona (np. wskazówek dotyczących typów od Python 3.6+).\n",
    "- Przed rozpoczęciem kodowania, przeprowadzono dogłębne badania specyfikacji takich jak OpenAPI, JSON Schema, OAuth2, rozumiejąc ich zależności i różnice.\n",
    "- Projektowanie FastAPI było ukierunkowane na stworzenie optymalnego doświadczenia dewelopera, z testami w popularnych edytorach Pythona.\n",
    "\n",
    "### Rozwój i Wkład\n",
    "- Wykorzystano Pydantic dla jego zalet w walidacji danych i zgodności ze schematem JSON.\n",
    "- Przyczyniono się również do rozwoju Starlette, kluczowego elementu FastAPI.\n",
    "- W momencie rozpoczynania FastAPI, wiele elementów było już gotowych: design, narzędzia, oraz wiedza o standardach.\n",
    "\n",
    "### Przyszłość\n",
    "- FastAPI okazało się przydatne dla wielu deweloperów i jest wybierane zamiast innych rozwiązań.\n",
    "- Wiele zespołów programistów już polega na FastAPI w swoich projektach.\n",
    "- Przewiduje się dalsze ulepszenia i rozwój FastAPI.\n",
    "\n",
    "FastAPI ma przed sobą świetlaną przyszłość, a wsparcie społeczności jest nieocenione.\n"
   ]
  },
  {
   "cell_type": "markdown",
   "id": "e5f2668d",
   "metadata": {},
   "source": [
    "## **Główne Cechy**\n",
    "\n",
    "- **Wydajność:** FastAPI jest bardzo wydajny, na równi z NodeJS oraz Go (dzięki Starlette i Pydantic). Jeden z najszybszych dostępnych frameworków Pythonowych.\n",
    "\n",
    "- **Szybkość kodowania:** Przyśpiesza szybkość pisania nowych funkcjonalności o około 200% do 300%. \n",
    "\n",
    "- **Łatwa integracja z modelami Pydantic:** FastAPI wykorzystuje Pydantic do prostej i efektywnej walidacji danych, co ułatwia zarządzanie schematami danych i zapewnia typowanie w czasie wykonania.\n",
    "\n",
    "- **Automatyczna generacja dokumentacji:** Dzięki zgodności ze standardem OpenAPI, FastAPI automatycznie generuje interaktywną dokumentację, co znacznie ułatwia korzystanie i testowanie API.\n",
    "\n",
    "- **Obsługa asynchroniczności:** FastAPI wspiera asynchroniczne programowanie z wykorzystaniem składni async/await, zwiększając wydajność i umożliwiając lepsze zarządzanie operacjami I/O.\n",
    "\n",
    "- **Bezpieczeństwo i autentykacja:** Framework oferuje zaawansowane funkcje bezpieczeństwa, w tym obsługę OAuth2 i JWT, co pomaga w ochronie API przed nieautoryzowanym dostępem."
   ]
  },
  {
   "cell_type": "markdown",
   "id": "98b3fe64",
   "metadata": {},
   "source": [
    "### **Wykorzystanie**\n",
    "\n",
    "**Uber:** Uber używa FastAPI w swoich systemach do operacji związanych z uczeniem maszynowym. Ze względu na swoją wydajność i łatwość skalowania, FastAPI stało się dla nich korzystnym wyborem.\n",
    "\n",
    "**Netflix:** Netflix wykorzystuje FastAPI do niektórych swoich systemów back-endowych, szczególnie tam, gdzie wymagana jest szybka i wydajna obsługa API.\n",
    "\n",
    "**Microsoft:** W Microsoft, FastAPI jest używane w pewnych projektach związanych z chmurą i sztuczną inteligencją, oferując wysoką wydajność i łatwość integracji z istniejącymi narzędziami."
   ]
  },
  {
   "cell_type": "markdown",
   "id": "3e497bec",
   "metadata": {},
   "source": [
    "## **Różnice między FastAPI a Django**\n",
    "\n",
    "- **Podstawowe Zastosowanie**:\n",
    "  - **FastAPI**: Skoncentrowany głównie na tworzeniu szybkich i wydajnych API.\n",
    "  - **Django**: Kompleksowy framework do tworzenia pełnych aplikacji webowych.\n",
    "\n",
    "- **Wydajność**:\n",
    "  - **FastAPI**: Wysoka wydajność dzięki asynchronicznemu modelowi programowania.\n",
    "  - **Django**: Stabilna wydajność, ale nie zawsze optymalna dla zadań o dużej intensywności I/O.\n",
    "\n",
    "- **Asynchroniczność**:\n",
    "  - **FastAPI**: Natywnie wspiera asynchroniczne operacje.\n",
    "  - **Django**: Asynchroniczność jest obsługiwana, ale nie jest to jej główna cecha.\n",
    "\n",
    "- **Automatyczna Dokumentacja API**:\n",
    "  - **FastAPI**: Automatycznie generuje dokumentację API.\n",
    "  - **Django**: Nie oferuje automatycznego generowania dokumentacji API.\n",
    "\n",
    "- **Framework i Architektura**:\n",
    "  - **FastAPI**: Minimalistyczny i modularny, idealny do mikroserwisów.\n",
    "  - **Django**: Monolityczny, z bogatym ekosystemem i wieloma wbudowanymi funkcjami.\n",
    "\n",
    "- **Front-End i Templating**:\n",
    "  - **FastAPI**: Nie zawiera wbudowanego systemu szablonów, skupia się na backendzie.\n",
    "  - **Django**: Posiada wbudowany system szablonów dla frontendu.\n",
    "\n",
    "- **Baza Danych i ORM**:\n",
    "  - **FastAPI**: Nie posiada własnego ORM; zazwyczaj używa się zewnętrznych bibliotek.\n",
    "  - **Django**: Wbudowany potężny system ORM.\n",
    "\n",
    "- **Bezpieczeństwo**:\n",
    "  - **FastAPI**: Zapewnia narzędzia do zabezpieczania API, ale bez wbudowanego systemu autentykacji.\n",
    "  - **Django**: Posiada zaawansowany wbudowany system autentykacji i bezpieczeństwa.\n",
    "\n",
    "- **Społeczność i Wsparcie**:\n",
    "  - **FastAPI**: Rosnąca społeczność, coraz więcej zasobów i wsparcia.\n",
    "  - **Django**: Duża, dojrzała społeczność z bogatym zestawem zasobów.\n"
   ]
  },
  {
   "cell_type": "markdown",
   "id": "db8781ce",
   "metadata": {},
   "source": [
    "## **Podstawy Budowy API w FastAPI**\n",
    "\n",
    "\n",
    "Projekt w FastAPI zazwyczaj obejmuje kilka kluczowych elementów:\n",
    "\n",
    "1. **Główny Plik (np. `main.py`)**: Gdzie definiujesz aplikację FastAPI i jej routy (endpointy).\n",
    "2. **Modele Pydantic**: Używane do walidacji i serializacji danych. Dzięki typowaniu Pythona, zapewniają łatwość w definicji struktur danych i walidacji.\n",
    "3. **Zależności (Dependencies)**: Funkcje i narzędzia, które można używać w wielu miejscach aplikacji, np. autentykacja, dostęp do bazy danych.\n",
    "4. **Routy/Endpointy**: Definicje poszczególnych ścieżek API, gdzie określasz logikę odpowiedzi na żądania HTTP.\n",
    "5. **Schematy**: Opcjonalne, służą do definiowania i walidacji struktury danych dla żądań i odpowiedzi.\n",
    "\n",
    "### Przykład Tworzenia Endpointu"
   ]
  },
  {
   "cell_type": "code",
   "execution_count": 1,
   "id": "dfc1b016",
   "metadata": {},
   "outputs": [],
   "source": [
    "# Importowanie klasy FastAPI\n",
    "from fastapi import FastAPI\n",
    "\n",
    "# Tworzenie instancji FastAPI\n",
    "app = FastAPI()\n",
    "\n",
    "# Definiowanie endpointu GET na głównym adresie URL \"/\"\n",
    "@app.get(\"/\")\n",
    "def read_root():\n",
    "    # Funkcja zwraca słownik, który zostanie automatycznie przekształcony na JSON\n",
    "    return {\"Hello\": \"World\"}"
   ]
  },
  {
   "cell_type": "markdown",
   "id": "5bf4d08b",
   "metadata": {},
   "source": [
    "## **Demonstracja Prostego API**\n",
    "\n",
    "Projekt odpalamy za pomocą polecenia uvicorn\n",
    "\n",
    "<img src=\"images/image3.png\" width=\"700\"/>\n",
    "\n",
    "Po uruchomieniu serwera, FastAPI udostępnia interaktywną dokumentację w Swagger UI pod adresem http://127.0.0.1:8000/docs. Możemy przeglądać dostępne endpointy, modele oraz testować API bezpośrednio z przeglądarki.\n",
    "\n",
    "<img src=\"images/image4.png\" width=\"700\"/>"
   ]
  },
  {
   "cell_type": "markdown",
   "id": "ec0e0198",
   "metadata": {},
   "source": [
    "## **Zaawansowane Funkcje FastAPI**\n",
    "\n",
    "FastAPI oferuje szereg zaawansowanych funkcji, które czynią go elastycznym narzędziem do tworzenia nowoczesnych aplikacji internetowych i API.\n",
    "\n",
    "### Asynchroniczność\n",
    "- **Wsparcie dla Asynchroniczności**: Umożliwia używanie `async` i `await` dla efektywniejszego zarządzania operacjami I/O.\n",
    "- **Korzyści**: Idealne dla aplikacji z intensywnym ruchem sieciowym i mikroserwisów."
   ]
  },
  {
   "cell_type": "code",
   "execution_count": 2,
   "id": "5368893a",
   "metadata": {},
   "outputs": [],
   "source": [
    "@app.get(\"/async\")\n",
    "async def read_async():\n",
    "    return {\"message\": \"To jest asynchroniczne\"}"
   ]
  },
  {
   "cell_type": "markdown",
   "id": "6b32315a",
   "metadata": {},
   "source": [
    "### Middleware\n",
    "- **Funkcjonalność**: Pozwala na wykonanie kodu przed i po żądaniach, użyteczne dla logowania, zarządzania sesjami.\n",
    "- **Implementacja**: Łatwo dodawane do aplikacji przez funkcje przetwarzające żądania i odpowiedzi."
   ]
  },
  {
   "cell_type": "code",
   "execution_count": 3,
   "id": "2cc0b230",
   "metadata": {},
   "outputs": [],
   "source": [
    "from fastapi import Request\n",
    "\n",
    "@app.middleware(\"http\")\n",
    "async def log_requests(request: Request, call_next):\n",
    "    print(f\"Przychodzące żądanie: {request.url}\")\n",
    "    response = await call_next(request)\n",
    "    print(f\"Zakończenie żądania: {response.status_code}\")\n",
    "    return response"
   ]
  },
  {
   "cell_type": "markdown",
   "id": "e8909352",
   "metadata": {},
   "source": [
    "\n",
    "### Zależności\n",
    "- **System Zależności**: Zaawansowany system wstrzykiwania zależności, który umożliwia ponowne wykorzystanie kodu.\n",
    "- **Użycie**: Idealne do współdzielenia logiki, np. połączenia z bazami danych, autentykacji."
   ]
  },
  {
   "cell_type": "code",
   "execution_count": null,
   "id": "3a7d37dd",
   "metadata": {},
   "outputs": [],
   "source": [
    "from fastapi import Depends, HTTPException\n",
    "\n",
    "def fake_auth(token: str = Depends()):\n",
    "    if token != \"tajnehaslo\":\n",
    "        raise HTTPException(status_code=401, detail=\"Nieautoryzowany\")\n",
    "    return token\n",
    "\n",
    "@app.get(\"/secure-endpoint\")\n",
    "def secure_endpoint(token: str = Depends(fake_auth)):\n",
    "    return {\"token\": token}"
   ]
  },
  {
   "cell_type": "markdown",
   "id": "bee5bc81",
   "metadata": {},
   "source": [
    "### WebSocket\n",
    "- **Wsparcie dla WebSocket**: Umożliwia tworzenie aplikacji w czasie rzeczywistym, np. czaty, powiadomienia.\n",
    "- **Realizacja**: Prosty interfejs API dla WebSocketów."
   ]
  },
  {
   "cell_type": "code",
   "execution_count": null,
   "id": "6a619b59",
   "metadata": {},
   "outputs": [],
   "source": [
    "from fastapi import WebSocket\n",
    "\n",
    "@app.websocket(\"/ws\")\n",
    "async def websocket_endpoint(websocket: WebSocket):\n",
    "    await websocket.accept()\n",
    "    while True:\n",
    "        data = await websocket.receive_text()\n",
    "        await websocket.send_text(f\"Echo: {data}\")"
   ]
  },
  {
   "cell_type": "markdown",
   "id": "5d711bdc",
   "metadata": {},
   "source": [
    "### Testowanie\n",
    "- **Łatwe Testowanie**: Integracja z frameworkami testowymi, takimi jak Pytest.\n",
    "- **Rodzaje Testów**: Możliwość pisania zarówno testów jednostkowych, jak i integracyjnych."
   ]
  },
  {
   "cell_type": "code",
   "execution_count": null,
   "id": "a6b81743",
   "metadata": {},
   "outputs": [],
   "source": [
    "from fastapi.testclient import TestClient\n",
    "\n",
    "client = TestClient(app)\n",
    "\n",
    "def test_read_main():\n",
    "    response = client.get(\"/\")\n",
    "    assert response.status_code == 200\n",
    "    assert response.json() == {\"Hello\": \"World\"}"
   ]
  },
  {
   "cell_type": "markdown",
   "id": "ac4edc03",
   "metadata": {},
   "source": [
    "\n",
    "\n",
    "## https://fastapi.tiangolo.com/pl/"
   ]
  }
 ],
 "metadata": {
  "kernelspec": {
   "display_name": "Python 3",
   "language": "python",
   "name": "python3"
  },
  "language_info": {
   "codemirror_mode": {
    "name": "ipython",
    "version": 3
   },
   "file_extension": ".py",
   "mimetype": "text/x-python",
   "name": "python",
   "nbconvert_exporter": "python",
   "pygments_lexer": "ipython3",
   "version": "3.11.6"
  }
 },
 "nbformat": 4,
 "nbformat_minor": 5
}
