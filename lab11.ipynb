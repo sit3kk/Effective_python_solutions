{
 "cells": [
  {
   "cell_type": "markdown",
   "metadata": {},
   "source": [
    "## Numpy"
   ]
  },
  {
   "cell_type": "code",
   "execution_count": null,
   "metadata": {
    "collapsed": true
   },
   "outputs": [],
   "source": [
    "import numpy as np"
   ]
  },
  {
   "cell_type": "markdown",
   "metadata": {},
   "source": [
    "### Zadanie 1.\n",
    "\n",
    "Stwórz losową tablicę 10,000 liczb, następnie do każdego elementu dodaj 1. Następnie napisz dokładnie tę samą funkcję używając `numpy` i jego tablic. Porównaj czas działania swoich rozwiązań."
   ]
  },
  {
   "cell_type": "code",
   "execution_count": 6,
   "metadata": {
    "collapsed": true
   },
   "outputs": [
    {
     "name": "stdout",
     "output_type": "stream",
     "text": [
      "('Standard', 0.1865675449371338, 'Numpy', 0.011557579040527344)\n"
     ]
    }
   ],
   "source": [
    "import random\n",
    "import time\n",
    "\n",
    "def add_one_standard(list_size):\n",
    "    random_list = [random.random() for _ in range(list_size)]\n",
    "    return [x + 1 for x in random_list]\n",
    "\n",
    "def add_one_numpy(list_size):\n",
    "    random_list = np.random.rand(list_size)\n",
    "    return random_list + 1\n",
    "\n",
    "list_size = 1000000\n",
    "\n",
    "\n",
    "start_time = time.time()    \n",
    "add_one_standard(list_size)\n",
    "standard_time = time.time() - start_time\n",
    "\n",
    "\n",
    "start_time = time.time()\n",
    "add_one_numpy(list_size)\n",
    "numpy_time = time.time() - start_time\n",
    "\n",
    "print((\"Standard\", standard_time, \"Numpy\" , numpy_time))"
   ]
  },
  {
   "cell_type": "markdown",
   "metadata": {},
   "source": [
    "### Zadanie 2.\n",
    "\n",
    "Napisz funkcje obliczajaca $\\sin(x) + \\cos(x)$ dla kazdego elementu tablicy 10,000 losowych liczb używając pętli oraz używając numpy, porownaj ich szybkość podobnie jak w poprzednim zadaniu."
   ]
  },
  {
   "cell_type": "code",
   "execution_count": 7,
   "metadata": {
    "collapsed": true
   },
   "outputs": [
    {
     "name": "stdout",
     "output_type": "stream",
     "text": [
      "('Standard', 0.002998828887939453, 'Numpy', 0.0010013580322265625)\n"
     ]
    }
   ],
   "source": [
    "from math import sin, cos\n",
    "\n",
    "def calculate_standard(list_size):\n",
    "    random_list = [random.random() for _ in range(list_size)]\n",
    "    return [sin(x) + cos(x) for x in random_list]\n",
    "\n",
    "def calculate_numpy(list_size):\n",
    "    random_array = np.random.rand(list_size)\n",
    "    return np.sin(random_array) + np.cos(random_array)\n",
    "\n",
    "\n",
    "list_size = 10000\n",
    "\n",
    "\n",
    "start_time = time.time()\n",
    "calculate_standard(list_size)\n",
    "standard_time = time.time() - start_time\n",
    "\n",
    "start_time = time.time()\n",
    "calculate_numpy(list_size)\n",
    "numpy_time = time.time() - start_time\n",
    "\n",
    "\n",
    "print((\"Standard\", standard_time, \"Numpy\" , numpy_time))"
   ]
  },
  {
   "cell_type": "markdown",
   "metadata": {},
   "source": [
    "### Zadanie 3.\n",
    "\n",
    "Napisz wydajniejszą forme następujących funkcji. Dopisz do każdej test potwierdzający szybkość zaproponowanego rozwiązania."
   ]
  },
  {
   "cell_type": "code",
   "execution_count": 8,
   "metadata": {
    "collapsed": true
   },
   "outputs": [
    {
     "name": "stdout",
     "output_type": "stream",
     "text": [
      "Original cube_sum time: 0.3014170999995258\n",
      "NumPy cube_sum time: 0.032012299999223615\n",
      "Original almost_variance time: 0.3888895000000048\n",
      "NumPy almost_variance time: 0.038968199999544595\n"
     ]
    }
   ],
   "source": [
    "def cube_sum(x):\n",
    "    \"\"\"Zwraca sume szescianow elementow\"\"\"\n",
    "    result = 0\n",
    "    for i in range(len(x)):\n",
    "        result += x[i] ** 3\n",
    "    return result\n",
    "\n",
    "def almost_variance(x):\n",
    "    \"\"\"Oblicza 1/n * SUM (x_i - mean(x))^4\"\"\"\n",
    "    m = sum(x) / len(x)\n",
    "    result = 0\n",
    "    for i in range(len(x)):\n",
    "        result += (x[i] - m) ** 4\n",
    "    result /= len(x)\n",
    "    return result\n",
    "\n",
    "\n",
    "def cube_sum_np(x):\n",
    "    return np.sum(np.power(x, 3))\n",
    "\n",
    "def almost_variance_np(x):\n",
    "    m = np.mean(x)\n",
    "    return np.mean((x - m) ** 4)\n",
    "\n",
    "\n",
    "\n",
    "import timeit\n",
    "\n",
    "x = np.random.rand(10000)\n",
    "\n",
    "original_cube_time = timeit.timeit('cube_sum(x)', globals=globals(), number=100)\n",
    "\n",
    "numpy_cube_time = timeit.timeit('cube_sum_np(x)', globals=globals(), number=100)\n",
    "\n",
    "original_variance_time = timeit.timeit('almost_variance(x)', globals=globals(), number=100)\n",
    "\n",
    "numpy_variance_time = timeit.timeit('almost_variance_np(x)', globals=globals(), number=100)\n",
    "\n",
    "print(f\"Original cube_sum time: {original_cube_time}\")\n",
    "print(f\"NumPy cube_sum time: {numpy_cube_time}\")\n",
    "print(f\"Original almost_variance time: {original_variance_time}\")\n",
    "print(f\"NumPy almost_variance time: {numpy_variance_time}\")"
   ]
  },
  {
   "cell_type": "markdown",
   "metadata": {},
   "source": [
    "### Zadanie 4.\n",
    "\n",
    "Wykorzystujac `broadcasting` (patrz na rysunek poniżej) stwórz tabliczkę mnożenia tzn. tablice $A$ taka, ze $$A_{ij} = i \\cdot j\\;\\;\\;\\;\\; \\forall i,j \\in \\{1,\\dots,10\\}$$\n",
    "\n",
    "Czy potrafisz wykonać to jednym poleceniem, nie używajac przy tym petli/comprehensions?"
   ]
  },
  {
   "cell_type": "markdown",
   "metadata": {},
   "source": [
    "<img src=\"http://www.astroml.org/_images/fig_broadcast_visual_1.png\">"
   ]
  },
  {
   "cell_type": "code",
   "execution_count": 9,
   "metadata": {
    "collapsed": true
   },
   "outputs": [
    {
     "name": "stdout",
     "output_type": "stream",
     "text": [
      "[[  1   2   3   4   5   6   7   8   9  10]\n",
      " [  2   4   6   8  10  12  14  16  18  20]\n",
      " [  3   6   9  12  15  18  21  24  27  30]\n",
      " [  4   8  12  16  20  24  28  32  36  40]\n",
      " [  5  10  15  20  25  30  35  40  45  50]\n",
      " [  6  12  18  24  30  36  42  48  54  60]\n",
      " [  7  14  21  28  35  42  49  56  63  70]\n",
      " [  8  16  24  32  40  48  56  64  72  80]\n",
      " [  9  18  27  36  45  54  63  72  81  90]\n",
      " [ 10  20  30  40  50  60  70  80  90 100]]\n"
     ]
    }
   ],
   "source": [
    "matrix_A = np.arange(1, 11).reshape(-1, 1) * np.arange(1, 11)\n",
    "\n",
    "print(matrix_A)"
   ]
  },
  {
   "cell_type": "markdown",
   "metadata": {},
   "source": [
    "### Zad 5.\n",
    "\n",
    "Wygeneruj losową tablice `10 x 5`, która będzie reprezentować `10` punktów w `5` wymiarowej przestrzeni. Napisz funkcje, która policzy odleglość euklidesową pomiędzy każdą parą punktów, czy potrafisz zrobić to **bez użycia żadnych pętli/comprehensions**? \n",
    "\n",
    "Przypomnienie, dla dwóch wektorów: $x$ i $y$ $$d_{e}(x,y) = \\| x - y \\|^2_2 = \\sum_{i=1}^d (x_i - y_i)^2 $$"
   ]
  },
  {
   "cell_type": "code",
   "execution_count": 10,
   "metadata": {
    "collapsed": true
   },
   "outputs": [
    {
     "name": "stdout",
     "output_type": "stream",
     "text": [
      "[[0.         0.91257757 1.13651993 1.05796763 1.11874158 1.33194551\n",
      "  0.71731106 0.47929374 1.105937   0.59602611]\n",
      " [0.91257757 0.         0.90493704 0.9345352  0.73129015 1.07231702\n",
      "  0.56049021 1.10158571 0.74021012 1.02343514]\n",
      " [1.13651993 0.90493704 0.         0.92119659 1.03568419 1.31663402\n",
      "  1.14169176 1.27864281 0.6465547  1.36547624]\n",
      " [1.05796763 0.9345352  0.92119659 0.         0.91759029 1.01215061\n",
      "  0.94357666 1.30015856 0.61007933 0.81752055]\n",
      " [1.11874158 0.73129015 1.03568419 0.91759029 0.         1.56405542\n",
      "  1.00802011 1.41017747 1.10137478 1.14819646]\n",
      " [1.33194551 1.07231702 1.31663402 1.01215061 1.56405542 0.\n",
      "  0.84436169 1.28040927 0.78706202 1.17505767]\n",
      " [0.71731106 0.56049021 1.14169176 0.94357666 1.00802011 0.84436169\n",
      "  0.         0.73773407 0.89010243 0.75504067]\n",
      " [0.47929374 1.10158571 1.27864281 1.30015856 1.41017747 1.28040927\n",
      "  0.73773407 0.         1.2621748  0.88332782]\n",
      " [1.105937   0.74021012 0.6465547  0.61007933 1.10137478 0.78706202\n",
      "  0.89010243 1.2621748  0.         1.08833392]\n",
      " [0.59602611 1.02343514 1.36547624 0.81752055 1.14819646 1.17505767\n",
      "  0.75504067 0.88332782 1.08833392 0.        ]]\n"
     ]
    }
   ],
   "source": [
    "points = np.random.rand(10, 5)\n",
    "\n",
    "distances = np.sqrt(np.sum((points[:, np.newaxis, :] - points[np.newaxis, :, :]) ** 2, axis=-1))\n",
    "\n",
    "print(distances)\n",
    "\n"
   ]
  },
  {
   "cell_type": "markdown",
   "metadata": {},
   "source": [
    "### Zad 6.\n",
    "\n",
    "Napisz funkcje do \"wybielania\" zbioru punktow, tj. aplikowania następującej transformacji (ponownie, zrób to bez użycia pętli etc.)\n",
    "$$\n",
    "\\mathrm{white}(X)_{ij} = \\frac{X_{ij} - \\mu_j}{\\sigma_j}\n",
    "$$\n",
    "gdzie $\\mu_j$ to srednia po $j$ej kolumnie, a $\\sigma_j$ to odchylenie standardowe po tej kolumnie, np.\n",
    "\n",
    "$$\n",
    "\\mathrm{white}\\left ( \\left [ \\begin{matrix} \n",
    "0& 1\\\\\n",
    "2& 3\\\\\n",
    "4& 5\\\\\n",
    "6& 7\\\\\n",
    "8& 9\n",
    "\\end{matrix} \\right ] \\right ) = \n",
    "\\left [ \\begin{matrix} \n",
    "-1.41421356& -1.41421356\\\\\n",
    "-0.70710678& -0.70710678\\\\\n",
    "0.        &  0.        \\\\\n",
    "0.70710678&  0.70710678\\\\\n",
    "1.41421356&  1.41421356\n",
    "\\end{matrix} \\right ]\n",
    "$$\n",
    "\n",
    "W szczególności średnia po poszczególnych kolumnach nowej macierzy powinna wynosić `0` a odchylenie standardowe `1`."
   ]
  },
  {
   "cell_type": "code",
   "execution_count": 11,
   "metadata": {
    "collapsed": true
   },
   "outputs": [
    {
     "data": {
      "text/plain": [
       "array([[-1.41421356, -1.41421356],\n",
       "       [-0.70710678, -0.70710678],\n",
       "       [ 0.        ,  0.        ],\n",
       "       [ 0.70710678,  0.70710678],\n",
       "       [ 1.41421356,  1.41421356]])"
      ]
     },
     "execution_count": 11,
     "metadata": {},
     "output_type": "execute_result"
    }
   ],
   "source": [
    "def whiten(X):\n",
    "    mu = np.mean(X, axis=0)\n",
    "    sigma = np.std(X, axis=0)\n",
    "\n",
    "    return (X - mu) / sigma\n",
    "\n",
    "X = np.arange(10).reshape(5, 2)\n",
    "\n",
    "whitened_X = whiten(X)\n",
    "\n",
    "whitened_X"
   ]
  },
  {
   "cell_type": "markdown",
   "metadata": {},
   "source": [
    "### Zad 7.\n",
    "\n",
    "Majac dana tablice dowolnie wymiarowa (dla uproszczenia mozesz przyjac ze jedno lub dwu) oraz liczbe `x` znajdz najblizsza wartosc `x` w `A`, tzn. \n",
    "\n",
    "$$\n",
    "\\mathrm{closest}(x, A) = \\arg\\min_{a\\in A}| x - a| \n",
    "$$\n",
    "\n",
    "np. \n",
    "\n",
    "$$\n",
    "\\mathrm{closest}(1.5, [1, -4, 3]) = 1\n",
    "$$\n",
    "\n",
    "Ponownie, czy potrafisz zrobic to bez petli, etc.?\n"
   ]
  },
  {
   "cell_type": "code",
   "execution_count": 14,
   "metadata": {
    "collapsed": true
   },
   "outputs": [
    {
     "name": "stdout",
     "output_type": "stream",
     "text": [
      "1\n"
     ]
    }
   ],
   "source": [
    "def closest(x, A):\n",
    "    A = np.asarray(A) \n",
    "    closest_element = A.flat[np.abs(A - x).argmin()]\n",
    "    return closest_element\n",
    "\n",
    "closest_value = closest(1.5, [1, -4, 3])\n",
    "print(closest_value)"
   ]
  },
  {
   "cell_type": "markdown",
   "metadata": {},
   "source": [
    "### Zad 8.\n",
    "\n",
    "Zaimplementuj proste liczenie wartosci wielomianu o zadanych wspolczynnikach (analogie `np.poly1d`), czyli funkcje\n",
    "\n",
    "$$\n",
    "\\mathrm{poly}(x, a) = a_0 + a_1 x + a_2 x^2 + \\dots + a_k x^k = \\sum_{i=1}^k a_i x^i\n",
    "$$\n",
    "\n",
    "Czy potrafisz zrobic to jednolinijkowo bez uzycia petli, etc. (oraz oczywiście `np.poly1d`). \n",
    "Może Ci się przydać metoda `cumprod`."
   ]
  },
  {
   "cell_type": "code",
   "execution_count": 15,
   "metadata": {},
   "outputs": [
    {
     "name": "stdout",
     "output_type": "stream",
     "text": [
      "17\n"
     ]
    }
   ],
   "source": [
    "import numpy as np\n",
    "\n",
    "\n",
    "poly = lambda x, a: np.dot(a, np.power(x, np.arange(len(a))))\n",
    "\n",
    "\n",
    "poly_value = poly(2, [1, 2, 3])\n",
    "print(poly_value)"
   ]
  },
  {
   "cell_type": "markdown",
   "metadata": {},
   "source": [
    "## Obrazki"
   ]
  },
  {
   "cell_type": "markdown",
   "metadata": {},
   "source": [
    "Do wyświetlania obrazków w notebooku potrzebny będzie `matplotlib`. W PyCharmie można użyć `imshow` z biblioteki `scipy`."
   ]
  },
  {
   "cell_type": "code",
   "execution_count": 19,
   "metadata": {},
   "outputs": [],
   "source": [
    "%matplotlib inline\n",
    "import matplotlib.pyplot as plt\n",
    "import matplotlib.image as mpimg"
   ]
  },
  {
   "cell_type": "code",
   "execution_count": 26,
   "metadata": {},
   "outputs": [
    {
     "data": {
      "text/plain": [
       "<matplotlib.image.AxesImage at 0x28c1dbc5650>"
      ]
     },
     "execution_count": 26,
     "metadata": {},
     "output_type": "execute_result"
    },
    {
     "data": {
      "image/png": "[encoded data removed]",
      "text/plain": [
       "<Figure size 640x480 with 1 Axes>"
      ]
     },
     "metadata": {},
     "output_type": "display_data"
    }
   ],
   "source": [
    "img = mpimg.imread('images/pandas_logo.png')\n",
    "plt.imshow(img)"
   ]
  },
  {
   "cell_type": "markdown",
   "metadata": {},
   "source": [
    "### Zad 9.\n",
    "\n",
    "Napisz funckje do przetwarzania obrazu do skali szarości wg wzoru:\n",
    "\n",
    "$$ 0.2126 \\times R + 0.7152 \\times  G + 0.0722 \\times B $$"
   ]
  },
  {
   "cell_type": "code",
   "execution_count": 24,
   "metadata": {
    "collapsed": true
   },
   "outputs": [
    {
     "data": {
      "image/png": "[encoded data removed]",
      "text/plain": [
       "<Figure size 640x480 with 1 Axes>"
      ]
     },
     "metadata": {},
     "output_type": "display_data"
    }
   ],
   "source": [
    "def convert_to_grayscale(image_path):\n",
    "\n",
    "    img = mpimg.imread(image_path)\n",
    "    \n",
    "    \n",
    "    gray_img = np.dot(img[...,:3], [0.2126, 0.7152, 0.0722])\n",
    "    \n",
    "\n",
    "    if gray_img.ndim == 3 and gray_img.shape[2] == 3:\n",
    "        gray_img = gray_img.mean(axis=2)\n",
    "    \n",
    "    return gray_img\n",
    "\n",
    "image_path = 'images/pandas_logo.png'\n",
    "\n",
    "gray_image = convert_to_grayscale(image_path)\n",
    "\n",
    "plt.imshow(gray_image, cmap='gray')\n",
    "plt.axis('off')\n",
    "plt.show()"
   ]
  },
  {
   "cell_type": "markdown",
   "metadata": {},
   "source": [
    "### Zadanie 10.\n",
    "\n",
    "Wyłącznie za pomocą metod numpy napisz kod do interpolacji liniowej pomiędzy parą punktów (dowolnej wymiarowości) wg wzoru:\n",
    "\n",
    "$$ x_i = \\lambda x_1 + (1 - \\lambda) x_2$$\n",
    "\n",
    "Kod powinien od razu generować interpolacje dla wielu wartości $\\lambda$, np dla 10 różnych $\\lambda \\in \\{0, 0.1, 0.2, \\dots, 1\\}$"
   ]
  },
  {
   "cell_type": "code",
   "execution_count": 25,
   "metadata": {
    "collapsed": true
   },
   "outputs": [
    {
     "name": "stdout",
     "output_type": "stream",
     "text": [
      "[[1.  2. ]\n",
      " [1.2 2.2]\n",
      " [1.4 2.4]\n",
      " [1.6 2.6]\n",
      " [1.8 2.8]\n",
      " [2.  3. ]\n",
      " [2.2 3.2]\n",
      " [2.4 3.4]\n",
      " [2.6 3.6]\n",
      " [2.8 3.8]\n",
      " [3.  4. ]]\n"
     ]
    }
   ],
   "source": [
    "import numpy as np\n",
    "\n",
    "\n",
    "def linear_interpolation(x1, x2, lambdas):\n",
    "    return np.outer(1 - lambdas, x1) + np.outer(lambdas, x2)\n",
    "\n",
    "x1 = np.array([1, 2])\n",
    "x2 = np.array([3, 4])\n",
    "lambdas = np.linspace(0, 1, 11) \n",
    "\n",
    "\n",
    "interpolated_values = linear_interpolation(x1, x2, lambdas)\n",
    "print(interpolated_values)"
   ]
  }
 ],
 "metadata": {
  "kernelspec": {
   "display_name": "Python 3",
   "language": "python",
   "name": "python3"
  },
  "language_info": {
   "codemirror_mode": {
    "name": "ipython",
    "version": 3
   },
   "file_extension": ".py",
   "mimetype": "text/x-python",
   "name": "python",
   "nbconvert_exporter": "python",
   "pygments_lexer": "ipython3",
   "version": "3.11.6"
  }
 },
 "nbformat": 4,
 "nbformat_minor": 1
}
